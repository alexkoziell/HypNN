{
 "cells": [
  {
   "cell_type": "code",
   "execution_count": 3,
   "metadata": {},
   "outputs": [
    {
     "name": "stdout",
     "output_type": "stream",
     "text": [
      "The autoreload extension is already loaded. To reload it, use:\n",
      "  %reload_ext autoreload\n"
     ]
    }
   ],
   "source": [
    "%load_ext autoreload\n",
    "%autoreload 2"
   ]
  },
  {
   "cell_type": "code",
   "execution_count": 4,
   "metadata": {},
   "outputs": [],
   "source": [
    "import numpy as np\n",
    "\n",
    "from hypnn.neuralnetwork import Variable, Operation, NeuralNetwork\n",
    "from hypnn.gui.mpldraw import MplHypergraph"
   ]
  },
  {
   "cell_type": "code",
   "execution_count": 5,
   "metadata": {},
   "outputs": [
    {
     "ename": "AttributeError",
     "evalue": "type object 'NeuralNetwork' has no attribute 'create_vertex'",
     "output_type": "error",
     "traceback": [
      "\u001b[0;31m---------------------------------------------------------------------------\u001b[0m",
      "\u001b[0;31mAttributeError\u001b[0m                            Traceback (most recent call last)",
      "Cell \u001b[0;32mIn[5], line 3\u001b[0m\n\u001b[1;32m      1\u001b[0m g \u001b[39m=\u001b[39m NeuralNetwork()\n\u001b[1;32m      2\u001b[0m \u001b[39m# Create scalar variables x, y and z\u001b[39;00m\n\u001b[0;32m----> 3\u001b[0m x \u001b[39m=\u001b[39m g\u001b[39m.\u001b[39madd_vertex(NeuralNetwork\u001b[39m.\u001b[39;49mcreate_vertex((\u001b[39m2\u001b[39m,), value\u001b[39m=\u001b[39mnp\u001b[39m.\u001b[39marray([\u001b[39m42\u001b[39m, \u001b[39m33\u001b[39m]), name\u001b[39m=\u001b[39m\u001b[39m'\u001b[39m\u001b[39mx\u001b[39m\u001b[39m'\u001b[39m))\n\u001b[1;32m      4\u001b[0m y \u001b[39m=\u001b[39m g\u001b[39m.\u001b[39madd_vertex(NeuralNetwork\u001b[39m.\u001b[39mcreate_vertex((\u001b[39m2\u001b[39m,), value\u001b[39m=\u001b[39mnp\u001b[39m.\u001b[39marray([\u001b[39m64\u001b[39m, \u001b[39m11\u001b[39m]), name\u001b[39m=\u001b[39m\u001b[39m'\u001b[39m\u001b[39my\u001b[39m\u001b[39m'\u001b[39m))\n\u001b[1;32m      5\u001b[0m z \u001b[39m=\u001b[39m g\u001b[39m.\u001b[39madd_vertex(NeuralNetwork\u001b[39m.\u001b[39mcreate_vertex((\u001b[39m2\u001b[39m, ), name\u001b[39m=\u001b[39m\u001b[39m'\u001b[39m\u001b[39mz\u001b[39m\u001b[39m'\u001b[39m))\n",
      "\u001b[0;31mAttributeError\u001b[0m: type object 'NeuralNetwork' has no attribute 'create_vertex'"
     ]
    }
   ],
   "source": [
    "g = NeuralNetwork()\n",
    "# Create scalar variables x, y and z\n",
    "x = g.add_vertex(Variable((2,), value=np.array([42, 33]), name='x'))\n",
    "y = g.add_vertex(Variable((2,), value=np.array([64, 11]), name='y'))\n",
    "z = g.add_vertex(Variable((2, ), name='z'))\n",
    "# Create an addition operation x + y = z\n",
    "g.add_edge(\n",
    "    Operation(lambda arrays: [sum(arrays)], [x, y], [z], '+')\n",
    ")\n",
    "g.inputs = [x, y]\n",
    "g.outputs = [z]\n",
    "g_mpl = MplHypergraph(g, annotate_vertices=True)\n",
    "g_mpl.draw(figsize=(4, 2))"
   ]
  },
  {
   "cell_type": "code",
   "execution_count": null,
   "metadata": {},
   "outputs": [],
   "source": []
  }
 ],
 "metadata": {
  "kernelspec": {
   "display_name": "hypnn",
   "language": "python",
   "name": "python3"
  },
  "language_info": {
   "codemirror_mode": {
    "name": "ipython",
    "version": 3
   },
   "file_extension": ".py",
   "mimetype": "text/x-python",
   "name": "python",
   "nbconvert_exporter": "python",
   "pygments_lexer": "ipython3",
   "version": "3.11.3"
  },
  "orig_nbformat": 4
 },
 "nbformat": 4,
 "nbformat_minor": 2
}
