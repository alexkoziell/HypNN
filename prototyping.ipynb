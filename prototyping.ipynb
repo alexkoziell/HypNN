{
 "cells": [
  {
   "cell_type": "code",
   "execution_count": 1,
   "metadata": {},
   "outputs": [],
   "source": [
    "%load_ext autoreload\n",
    "%autoreload 2"
   ]
  },
  {
   "cell_type": "code",
   "execution_count": 2,
   "metadata": {},
   "outputs": [],
   "source": [
    "import hypnn.hypergraph as hg"
   ]
  },
  {
   "cell_type": "code",
   "execution_count": 3,
   "metadata": {},
   "outputs": [
    {
     "data": {
      "text/plain": [
       "f ; g ; \n",
       "id; id; \n",
       "id; id; "
      ]
     },
     "execution_count": 3,
     "metadata": {},
     "output_type": "execute_result"
    }
   ],
   "source": [
    "g = hg.Hypergraph()\n",
    "for _ in range(10):\n",
    "    g.add_vertex()\n",
    "g.add_edge([0, 1, 2], [3, 4], 'f')\n",
    "g.add_edge([3, 4], [5, 6, 7], 'g')\n",
    "g.inputs = [0, 1, 2, 8, 9]\n",
    "g.outputs = [5, 6, 7, 8, 9]\n",
    "g"
   ]
  },
  {
   "cell_type": "code",
   "execution_count": 4,
   "metadata": {},
   "outputs": [
    {
     "data": {
      "text/plain": [
       "id; \n",
       "id; \n",
       "h ; "
      ]
     },
     "execution_count": 4,
     "metadata": {},
     "output_type": "execute_result"
    }
   ],
   "source": [
    "h = hg.Hypergraph()\n",
    "for _ in range(7):\n",
    "    h.add_vertex()\n",
    "h.add_edge([2, 3, 4], [5, 6], 'h')\n",
    "h.inputs = [0, 1, 2, 3, 4]; h.outputs = [0, 1, 5, 6]\n",
    "h"
   ]
  },
  {
   "cell_type": "code",
   "execution_count": 5,
   "metadata": {},
   "outputs": [
    {
     "data": {
      "text/plain": [
       "f ; g ; id; \n",
       "id; id; id; \n",
       "id; id; h ; "
      ]
     },
     "execution_count": 5,
     "metadata": {},
     "output_type": "execute_result"
    }
   ],
   "source": [
    "gh = g.sequential_comp(h)\n",
    "gh"
   ]
  },
  {
   "cell_type": "code",
   "execution_count": 6,
   "metadata": {},
   "outputs": [
    {
     "data": {
      "text/plain": [
       "f ; g ; id; \n",
       "id; id; id; \n",
       "id; id; h ; \n",
       "f ; g ; id; \n",
       "id; id; id; \n",
       "id; id; id; \n",
       "  ;   ; id; \n",
       "  ;   ; id; "
      ]
     },
     "execution_count": 6,
     "metadata": {},
     "output_type": "execute_result"
    }
   ],
   "source": [
    "gh_g = gh.parallel_comp(g)\n",
    "gh_g"
   ]
  }
 ],
 "metadata": {
  "kernelspec": {
   "display_name": "hypnn",
   "language": "python",
   "name": "python3"
  },
  "language_info": {
   "codemirror_mode": {
    "name": "ipython",
    "version": 3
   },
   "file_extension": ".py",
   "mimetype": "text/x-python",
   "name": "python",
   "nbconvert_exporter": "python",
   "pygments_lexer": "ipython3",
   "version": "3.11.3"
  },
  "orig_nbformat": 4
 },
 "nbformat": 4,
 "nbformat_minor": 2
}
